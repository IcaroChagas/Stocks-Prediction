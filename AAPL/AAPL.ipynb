{
  "nbformat": 4,
  "nbformat_minor": 0,
  "metadata": {
    "colab": {
      "name": "AAPL",
      "provenance": [],
      "collapsed_sections": [],
      "toc_visible": true
    },
    "kernelspec": {
      "name": "python3",
      "display_name": "Python 3"
    }
  },
  "cells": [
    {
      "cell_type": "markdown",
      "metadata": {
        "id": "nqcGAyhj7jvz",
        "colab_type": "text"
      },
      "source": [
        "# Prediction of Apple Inc. stocks price with LSTM\n",
        "\n",
        "Program uses artificial recurrent neural network called Long Tern Memory (LSTM) to predict the closing price of a company usinf the past 60 days stock price."
      ]
    },
    {
      "cell_type": "code",
      "metadata": {
        "id": "D7WohsqLduUi",
        "colab_type": "code",
        "colab": {
          "base_uri": "https://localhost:8080/",
          "height": 122
        },
        "outputId": "3e40c779-a671-4a53-c000-4dd154d4b2cb"
      },
      "source": [
        "# Importing drive\n",
        "from google.colab import drive\n",
        "drive.mount('/content/drive')"
      ],
      "execution_count": 2,
      "outputs": [
        {
          "output_type": "stream",
          "text": [
            "Go to this URL in a browser: https://accounts.google.com/o/oauth2/auth?client_id=947318989803-6bn6qk8qdgf4n4g3pfee6491hc0brc4i.apps.googleusercontent.com&redirect_uri=urn%3aietf%3awg%3aoauth%3a2.0%3aoob&response_type=code&scope=email%20https%3a%2f%2fwww.googleapis.com%2fauth%2fdocs.test%20https%3a%2f%2fwww.googleapis.com%2fauth%2fdrive%20https%3a%2f%2fwww.googleapis.com%2fauth%2fdrive.photos.readonly%20https%3a%2f%2fwww.googleapis.com%2fauth%2fpeopleapi.readonly\n",
            "\n",
            "Enter your authorization code:\n",
            "··········\n",
            "Mounted at /content/drive\n"
          ],
          "name": "stdout"
        }
      ]
    },
    {
      "cell_type": "code",
      "metadata": {
        "id": "8gBQ9lGFfARj",
        "colab_type": "code",
        "colab": {}
      },
      "source": [
        "# Setting path\n",
        "import sys\n",
        "path = sys.path.append('/content/drive/My Drive/Colab Notebooks/Stock Price Prediction')\n"
      ],
      "execution_count": 32,
      "outputs": []
    },
    {
      "cell_type": "code",
      "metadata": {
        "id": "oVBO9Q-ehv7J",
        "colab_type": "code",
        "colab": {}
      },
      "source": [
        "# importing libraries\n",
        "import pandas as pd\n",
        "import math\n",
        "import pandas_datareader as web\n",
        "import numpy as np\n",
        "from sklearn.preprocessing import MinMaxScaler\n",
        "from keras.models import Sequential\n",
        "from keras.layers import Dense, LSTM\n",
        "import matplotlib.pyplot as plt\n",
        "plt.style.use('fivethirtyeight')"
      ],
      "execution_count": 33,
      "outputs": []
    },
    {
      "cell_type": "markdown",
      "metadata": {
        "id": "y3M0OT1KADyF",
        "colab_type": "text"
      },
      "source": [
        "## Getting Data with `pandas_datareader`"
      ]
    },
    {
      "cell_type": "code",
      "metadata": {
        "id": "uOgeZC3u2g7N",
        "colab_type": "code",
        "colab": {}
      },
      "source": [
        "df = web.DataReader('AAPL',data_source='yahoo', start='2012-01-01', end='2019-12-17')"
      ],
      "execution_count": 34,
      "outputs": []
    },
    {
      "cell_type": "code",
      "metadata": {
        "id": "p7z8T5Y02zRb",
        "colab_type": "code",
        "colab": {
          "base_uri": "https://localhost:8080/",
          "height": 235
        },
        "outputId": "b21b56af-0c53-445e-ed51-372267fb77f7"
      },
      "source": [
        "df.head()"
      ],
      "execution_count": 59,
      "outputs": [
        {
          "output_type": "execute_result",
          "data": {
            "text/html": [
              "<div>\n",
              "<style scoped>\n",
              "    .dataframe tbody tr th:only-of-type {\n",
              "        vertical-align: middle;\n",
              "    }\n",
              "\n",
              "    .dataframe tbody tr th {\n",
              "        vertical-align: top;\n",
              "    }\n",
              "\n",
              "    .dataframe thead th {\n",
              "        text-align: right;\n",
              "    }\n",
              "</style>\n",
              "<table border=\"1\" class=\"dataframe\">\n",
              "  <thead>\n",
              "    <tr style=\"text-align: right;\">\n",
              "      <th></th>\n",
              "      <th>High</th>\n",
              "      <th>Low</th>\n",
              "      <th>Open</th>\n",
              "      <th>Close</th>\n",
              "      <th>Volume</th>\n",
              "      <th>Adj Close</th>\n",
              "    </tr>\n",
              "    <tr>\n",
              "      <th>Date</th>\n",
              "      <th></th>\n",
              "      <th></th>\n",
              "      <th></th>\n",
              "      <th></th>\n",
              "      <th></th>\n",
              "      <th></th>\n",
              "    </tr>\n",
              "  </thead>\n",
              "  <tbody>\n",
              "    <tr>\n",
              "      <th>2012-01-03</th>\n",
              "      <td>58.928570</td>\n",
              "      <td>58.428570</td>\n",
              "      <td>58.485714</td>\n",
              "      <td>58.747143</td>\n",
              "      <td>75555200.0</td>\n",
              "      <td>50.857235</td>\n",
              "    </tr>\n",
              "    <tr>\n",
              "      <th>2012-01-04</th>\n",
              "      <td>59.240002</td>\n",
              "      <td>58.468571</td>\n",
              "      <td>58.571430</td>\n",
              "      <td>59.062859</td>\n",
              "      <td>65005500.0</td>\n",
              "      <td>51.130558</td>\n",
              "    </tr>\n",
              "    <tr>\n",
              "      <th>2012-01-05</th>\n",
              "      <td>59.792858</td>\n",
              "      <td>58.952858</td>\n",
              "      <td>59.278572</td>\n",
              "      <td>59.718571</td>\n",
              "      <td>67817400.0</td>\n",
              "      <td>51.698215</td>\n",
              "    </tr>\n",
              "    <tr>\n",
              "      <th>2012-01-06</th>\n",
              "      <td>60.392857</td>\n",
              "      <td>59.888573</td>\n",
              "      <td>59.967144</td>\n",
              "      <td>60.342857</td>\n",
              "      <td>79573200.0</td>\n",
              "      <td>52.238651</td>\n",
              "    </tr>\n",
              "    <tr>\n",
              "      <th>2012-01-09</th>\n",
              "      <td>61.107143</td>\n",
              "      <td>60.192856</td>\n",
              "      <td>60.785713</td>\n",
              "      <td>60.247143</td>\n",
              "      <td>98506100.0</td>\n",
              "      <td>52.155792</td>\n",
              "    </tr>\n",
              "  </tbody>\n",
              "</table>\n",
              "</div>"
            ],
            "text/plain": [
              "                 High        Low       Open      Close      Volume  Adj Close\n",
              "Date                                                                         \n",
              "2012-01-03  58.928570  58.428570  58.485714  58.747143  75555200.0  50.857235\n",
              "2012-01-04  59.240002  58.468571  58.571430  59.062859  65005500.0  51.130558\n",
              "2012-01-05  59.792858  58.952858  59.278572  59.718571  67817400.0  51.698215\n",
              "2012-01-06  60.392857  59.888573  59.967144  60.342857  79573200.0  52.238651\n",
              "2012-01-09  61.107143  60.192856  60.785713  60.247143  98506100.0  52.155792"
            ]
          },
          "metadata": {
            "tags": []
          },
          "execution_count": 59
        }
      ]
    },
    {
      "cell_type": "markdown",
      "metadata": {
        "id": "b4w_Y1k5Dy0h",
        "colab_type": "text"
      },
      "source": [
        "## Plotting Close Price History"
      ]
    },
    {
      "cell_type": "code",
      "metadata": {
        "id": "kXUilFlwA79A",
        "colab_type": "code",
        "colab": {
          "base_uri": "https://localhost:8080/",
          "height": 558
        },
        "outputId": "e821c5db-cc81-4e3a-daa3-e326f432b0d6"
      },
      "source": [
        "#Plotting with MatplotLib\n",
        "plt.figure(figsize=(16,8))\n",
        "plt.title('Apple 2012 - 2019')\n",
        "plt.plot(df['Close'])\n",
        "plt.xlabel('Date', fontsize=18)\n",
        "plt.ylabel('Close Price USD', fontsize=18)\n",
        "plt.show()"
      ],
      "execution_count": 60,
      "outputs": [
        {
          "output_type": "display_data",
          "data": {
            "image/png": "[encoded data removed]",
            "text/plain": [
              "<Figure size 1152x576 with 1 Axes>"
            ]
          },
          "metadata": {
            "tags": []
          }
        }
      ]
    },
    {
      "cell_type": "markdown",
      "metadata": {
        "id": "xuFoh_cqFd5H",
        "colab_type": "text"
      },
      "source": [
        "## Creating new DF with the column Close"
      ]
    },
    {
      "cell_type": "code",
      "metadata": {
        "id": "Gq1PpUAaEz_w",
        "colab_type": "code",
        "colab": {
          "base_uri": "https://localhost:8080/",
          "height": 34
        },
        "outputId": "1ef87702-88c4-402d-f7cf-9bca74239bd6"
      },
      "source": [
        "# Creating DF with colum 'Close'\n",
        "data = df.filter(['Close'])\n",
        "\n",
        "# Covert DF to a numpy array\n",
        "dataset = data.values\n",
        "\n",
        "# Get the number of rows to train the module\n",
        "training_data_len = math.ceil(len(dataset)*0.8)\n",
        "\n",
        "training_data_len"
      ],
      "execution_count": 61,
      "outputs": [
        {
          "output_type": "execute_result",
          "data": {
            "text/plain": [
              "1603"
            ]
          },
          "metadata": {
            "tags": []
          },
          "execution_count": 61
        }
      ]
    },
    {
      "cell_type": "markdown",
      "metadata": {
        "id": "X8-rWvZneb_d",
        "colab_type": "text"
      },
      "source": [
        "## Data Normalization"
      ]
    },
    {
      "cell_type": "code",
      "metadata": {
        "id": "s8c4U7QyGrd4",
        "colab_type": "code",
        "colab": {
          "base_uri": "https://localhost:8080/",
          "height": 136
        },
        "outputId": "ef4131d1-2580-4cf4-d811-5abe5747543b"
      },
      "source": [
        "# Scale the Data\n",
        "scaler = MinMaxScaler(feature_range=(0,1))\n",
        "scaled_data = scaler.fit_transform(dataset)\n",
        "\n",
        "scaled_data"
      ],
      "execution_count": 62,
      "outputs": [
        {
          "output_type": "execute_result",
          "data": {
            "text/plain": [
              "array([[0.01316509],\n",
              "       [0.01457064],\n",
              "       [0.01748985],\n",
              "       ...,\n",
              "       [0.97658263],\n",
              "       [0.99755134],\n",
              "       [1.        ]])"
            ]
          },
          "metadata": {
            "tags": []
          },
          "execution_count": 62
        }
      ]
    },
    {
      "cell_type": "markdown",
      "metadata": {
        "id": "8UHaxMQqnK__",
        "colab_type": "text"
      },
      "source": [
        "## Training Data"
      ]
    },
    {
      "cell_type": "code",
      "metadata": {
        "id": "3fwhSxRgHUlm",
        "colab_type": "code",
        "colab": {}
      },
      "source": [
        "# Creating training dataset\n",
        "# Creating the scaled trainig data set\n",
        "train_data = scaled_data[0:training_data_len, :]\n",
        "\n",
        "# Split the data between x and y train data sets\n",
        "x_train = []\n",
        "y_train = []\n",
        "\n",
        "# Separete first 60 items for x_train and the 61 for y_train\n",
        "for i in range(60,len(train_data)):\n",
        "  x_train.append(train_data[i-60:i, 0])\n",
        "  y_train.append(train_data[i, 0])\n",
        "  if i <= 60:\n",
        "    print(x_train)\n",
        "    print(y_train)\n",
        "    print()\n"
      ],
      "execution_count": null,
      "outputs": []
    },
    {
      "cell_type": "markdown",
      "metadata": {
        "id": "iq5Z_U0xwzCR",
        "colab_type": "text"
      },
      "source": [
        "### Covert to Numpy array"
      ]
    },
    {
      "cell_type": "code",
      "metadata": {
        "id": "LB41tDveI4d_",
        "colab_type": "code",
        "colab": {}
      },
      "source": [
        "# Convert the x_train and y_train to numpy arrays\n",
        "x_train, y_train = np.array(x_train), np.array(y_train)"
      ],
      "execution_count": 64,
      "outputs": []
    },
    {
      "cell_type": "markdown",
      "metadata": {
        "id": "UKJHpdbiqH3H",
        "colab_type": "text"
      },
      "source": [
        "### Reshaping Data"
      ]
    },
    {
      "cell_type": "code",
      "metadata": {
        "id": "HohimHX-pAIl",
        "colab_type": "code",
        "colab": {
          "base_uri": "https://localhost:8080/",
          "height": 34
        },
        "outputId": "8910c40f-55e6-48f3-ad60-a6709ada216a"
      },
      "source": [
        "# Reshape de Data for 3 dimensions, once LSTM needs it\n",
        "x_train = np.reshape(x_train,(x_train.shape[0], x_train.shape[1], 1))    # (num of samples/rows, time steps, features)\n",
        "x_train.shape"
      ],
      "execution_count": 65,
      "outputs": [
        {
          "output_type": "execute_result",
          "data": {
            "text/plain": [
              "(1543, 60, 1)"
            ]
          },
          "metadata": {
            "tags": []
          },
          "execution_count": 65
        }
      ]
    },
    {
      "cell_type": "markdown",
      "metadata": {
        "id": "FsP1_LcuqMyH",
        "colab_type": "text"
      },
      "source": [
        "### Building LSTM model"
      ]
    },
    {
      "cell_type": "code",
      "metadata": {
        "id": "GPkStkPVqAPO",
        "colab_type": "code",
        "colab": {}
      },
      "source": [
        "model = Sequential()\n",
        "model.add(LSTM(50, return_sequences=True, input_shape=(x_train.shape[1],1)))\n",
        "model.add(LSTM(50, return_sequences=False))\n",
        "model.add(Dense(25))\n",
        "model.add(Dense(1))"
      ],
      "execution_count": 66,
      "outputs": []
    },
    {
      "cell_type": "code",
      "metadata": {
        "id": "VPZyf9FHq7Mk",
        "colab_type": "code",
        "colab": {}
      },
      "source": [
        "# Compiling the model\n",
        "model.compile(optimizer='adam', loss='mean_squared_error')"
      ],
      "execution_count": 67,
      "outputs": []
    },
    {
      "cell_type": "markdown",
      "metadata": {
        "id": "hhAtFH_HwXZX",
        "colab_type": "text"
      },
      "source": [
        "### Training Model"
      ]
    },
    {
      "cell_type": "code",
      "metadata": {
        "id": "WHw5ZApircHK",
        "colab_type": "code",
        "colab": {
          "base_uri": "https://localhost:8080/",
          "height": 68
        },
        "outputId": "3524f309-2f57-4331-b535-72c5f586ea1e"
      },
      "source": [
        "# Train Model\n",
        "model.fit(x_train, y_train, \n",
        "          batch_size=1,    # batch size: total number of training examples present in a single batch \n",
        "          epochs=1)        # epochs: number of iterations when an entire dataset is passed foward and backward through a neural network\n",
        "\n",
        "\n",
        "                                            "
      ],
      "execution_count": 68,
      "outputs": [
        {
          "output_type": "stream",
          "text": [
            "Epoch 1/1\n",
            "1543/1543 [==============================] - 63s 41ms/step - loss: 8.1288e-04\n"
          ],
          "name": "stdout"
        },
        {
          "output_type": "execute_result",
          "data": {
            "text/plain": [
              "<keras.callbacks.callbacks.History at 0x7f4f77f55e80>"
            ]
          },
          "metadata": {
            "tags": []
          },
          "execution_count": 68
        }
      ]
    },
    {
      "cell_type": "markdown",
      "metadata": {
        "id": "8S45V6hLw59g",
        "colab_type": "text"
      },
      "source": [
        "## Test Data"
      ]
    },
    {
      "cell_type": "code",
      "metadata": {
        "id": "0uiCY2BIsiiO",
        "colab_type": "code",
        "colab": {}
      },
      "source": [
        "# Creating Test Data set\n",
        "# Creating a new array containing scaled values from index 2543 to 2003\n",
        "test_data = scaled_data[training_data_len -60 : , :]\n",
        "#Creating the data sets x_test and y_test\n",
        "x_test = []\n",
        "y_test = dataset[training_data_len: , :]\n",
        "for i in range(60, len(test_data)):\n",
        "  x_test.append(test_data[i-60 : i, 0])"
      ],
      "execution_count": 69,
      "outputs": []
    },
    {
      "cell_type": "markdown",
      "metadata": {
        "id": "hClKuAPIw9Vj",
        "colab_type": "text"
      },
      "source": [
        "### Corvert to numpy array"
      ]
    },
    {
      "cell_type": "code",
      "metadata": {
        "id": "hzzzKMNLv9hA",
        "colab_type": "code",
        "colab": {}
      },
      "source": [
        "#Convert data to numpy array\n",
        "x_test = np.array(x_test)"
      ],
      "execution_count": 70,
      "outputs": []
    },
    {
      "cell_type": "markdown",
      "metadata": {
        "id": "dOsgYV51xA78",
        "colab_type": "text"
      },
      "source": [
        "### Reshaping Data"
      ]
    },
    {
      "cell_type": "code",
      "metadata": {
        "id": "1AMjXsrXwFHU",
        "colab_type": "code",
        "colab": {
          "base_uri": "https://localhost:8080/",
          "height": 34
        },
        "outputId": "48a85181-bcbc-4e8d-d7d3-0c607a1c0af0"
      },
      "source": [
        "# Reshaping to 3 dimension\n",
        "x_test = np.reshape(x_test,(x_test.shape[0], x_test.shape[1], 1))    # (num of samples/rows, time steps, features)\n",
        "x_test.shape"
      ],
      "execution_count": 71,
      "outputs": [
        {
          "output_type": "execute_result",
          "data": {
            "text/plain": [
              "(400, 60, 1)"
            ]
          },
          "metadata": {
            "tags": []
          },
          "execution_count": 71
        }
      ]
    },
    {
      "cell_type": "markdown",
      "metadata": {
        "id": "qaIAaVjwxTOa",
        "colab_type": "text"
      },
      "source": [
        "### Getting models prediction price values\n",
        "\n"
      ]
    },
    {
      "cell_type": "code",
      "metadata": {
        "id": "A-gHtdlrxQnG",
        "colab_type": "code",
        "colab": {}
      },
      "source": [
        "predictions = model.predict(x_test)\n",
        "predictions = scaler.inverse_transform(predictions)"
      ],
      "execution_count": 72,
      "outputs": []
    },
    {
      "cell_type": "markdown",
      "metadata": {
        "id": "dG2HMNdEyx0e",
        "colab_type": "text"
      },
      "source": [
        "### Getting the root mean squared error (RMSE)"
      ]
    },
    {
      "cell_type": "code",
      "metadata": {
        "id": "5NjQEi1VyrTb",
        "colab_type": "code",
        "colab": {
          "base_uri": "https://localhost:8080/",
          "height": 34
        },
        "outputId": "5fe49829-ca10-478a-a933-e3315901d415"
      },
      "source": [
        "rmse = np.sqrt( np.mean(predictions - y_test)**2)\n",
        "rmse"
      ],
      "execution_count": 73,
      "outputs": [
        {
          "output_type": "execute_result",
          "data": {
            "text/plain": [
              "7.301014862060547"
            ]
          },
          "metadata": {
            "tags": []
          },
          "execution_count": 73
        }
      ]
    },
    {
      "cell_type": "markdown",
      "metadata": {
        "id": "sZiD020AzG7M",
        "colab_type": "text"
      },
      "source": [
        "## Plotting results"
      ]
    },
    {
      "cell_type": "code",
      "metadata": {
        "id": "4fqijvJJzDcm",
        "colab_type": "code",
        "colab": {
          "base_uri": "https://localhost:8080/",
          "height": 660
        },
        "outputId": "346aa9e8-05e4-4145-92bb-5a337bc75ac5"
      },
      "source": [
        "# Plot data\n",
        "train = data[ : training_data_len]\n",
        "valid = data[training_data_len : ]\n",
        "valid['Predictions'] = predictions\n",
        "# Visualize data\n",
        "plt.figure(figsize= (16,8))\n",
        "plt.title('Model')\n",
        "plt.xlabel('Date', fontsize=18)\n",
        "plt.ylabel('Close Price USD')\n",
        "\n",
        "# Selecting Data\n",
        "plt.plot(train['Close'])\n",
        "plt.plot(valid[['Close','Predictions']])\n",
        "plt.legend(['Train','Valid','Predictions'], loc='lower right')\n",
        "plt.show()"
      ],
      "execution_count": 74,
      "outputs": [
        {
          "output_type": "stream",
          "text": [
            "/usr/local/lib/python3.6/dist-packages/ipykernel_launcher.py:4: SettingWithCopyWarning: \n",
            "A value is trying to be set on a copy of a slice from a DataFrame.\n",
            "Try using .loc[row_indexer,col_indexer] = value instead\n",
            "\n",
            "See the caveats in the documentation: https://pandas.pydata.org/pandas-docs/stable/user_guide/indexing.html#returning-a-view-versus-a-copy\n",
            "  after removing the cwd from sys.path.\n"
          ],
          "name": "stderr"
        },
        {
          "output_type": "display_data",
          "data": {
            "image/png": "[encoded data removed]",
            "text/plain": [
              "<Figure size 1152x576 with 1 Axes>"
            ]
          },
          "metadata": {
            "tags": []
          }
        }
      ]
    },
    {
      "cell_type": "code",
      "metadata": {
        "id": "uAncGebo0ulb",
        "colab_type": "code",
        "colab": {
          "base_uri": "https://localhost:8080/",
          "height": 235
        },
        "outputId": "39aa1a7a-1d17-4e81-fbd5-a9f387490c6b"
      },
      "source": [
        "# Comparing valid and predicted prices\n",
        "valid.head()"
      ],
      "execution_count": 75,
      "outputs": [
        {
          "output_type": "execute_result",
          "data": {
            "text/html": [
              "<div>\n",
              "<style scoped>\n",
              "    .dataframe tbody tr th:only-of-type {\n",
              "        vertical-align: middle;\n",
              "    }\n",
              "\n",
              "    .dataframe tbody tr th {\n",
              "        vertical-align: top;\n",
              "    }\n",
              "\n",
              "    .dataframe thead th {\n",
              "        text-align: right;\n",
              "    }\n",
              "</style>\n",
              "<table border=\"1\" class=\"dataframe\">\n",
              "  <thead>\n",
              "    <tr style=\"text-align: right;\">\n",
              "      <th></th>\n",
              "      <th>Close</th>\n",
              "      <th>Predictions</th>\n",
              "    </tr>\n",
              "    <tr>\n",
              "      <th>Date</th>\n",
              "      <th></th>\n",
              "      <th></th>\n",
              "    </tr>\n",
              "  </thead>\n",
              "  <tbody>\n",
              "    <tr>\n",
              "      <th>2018-05-17</th>\n",
              "      <td>186.990005</td>\n",
              "      <td>194.693665</td>\n",
              "    </tr>\n",
              "    <tr>\n",
              "      <th>2018-05-18</th>\n",
              "      <td>186.309998</td>\n",
              "      <td>194.787476</td>\n",
              "    </tr>\n",
              "    <tr>\n",
              "      <th>2018-05-21</th>\n",
              "      <td>187.630005</td>\n",
              "      <td>194.589035</td>\n",
              "    </tr>\n",
              "    <tr>\n",
              "      <th>2018-05-22</th>\n",
              "      <td>187.160004</td>\n",
              "      <td>194.447739</td>\n",
              "    </tr>\n",
              "    <tr>\n",
              "      <th>2018-05-23</th>\n",
              "      <td>188.360001</td>\n",
              "      <td>194.282562</td>\n",
              "    </tr>\n",
              "  </tbody>\n",
              "</table>\n",
              "</div>"
            ],
            "text/plain": [
              "                 Close  Predictions\n",
              "Date                               \n",
              "2018-05-17  186.990005   194.693665\n",
              "2018-05-18  186.309998   194.787476\n",
              "2018-05-21  187.630005   194.589035\n",
              "2018-05-22  187.160004   194.447739\n",
              "2018-05-23  188.360001   194.282562"
            ]
          },
          "metadata": {
            "tags": []
          },
          "execution_count": 75
        }
      ]
    },
    {
      "cell_type": "markdown",
      "metadata": {
        "id": "UrVgq7cxL9-h",
        "colab_type": "text"
      },
      "source": [
        "## Predicting a new day"
      ]
    },
    {
      "cell_type": "code",
      "metadata": {
        "id": "4eVzfprq1JqA",
        "colab_type": "code",
        "colab": {
          "base_uri": "https://localhost:8080/",
          "height": 34
        },
        "outputId": "10d9c05e-e8c4-479b-c511-b791c072a902"
      },
      "source": [
        "# Get quote\n",
        "apple_quote = web.DataReader('AAPL',data_source='yahoo', start='2012-01-01', end='2019-12-17')\n",
        "#Create DF\n",
        "new_df = apple_quote.filter(['Close'])\n",
        "# Get the last 60 days closing price values and covert the df to an array\n",
        "last_60_days = new_df[-60:].values\n",
        "# Scale the data to be values between 0 and 1\n",
        "last_60_days_scaled = scaler.transform(last_60_days)\n",
        "# Create an empty list\n",
        "X_test = []\n",
        "# Append the past 60 days\n",
        "X_test.append(last_60_days_scaled)\n",
        "# Covert X_test to a numpy array\n",
        "X_test = np.array(X_test)\n",
        "# Rashape Test Data\n",
        "X_test = np.reshape(X_test, (X_test.shape[0], X_test.shape[1], 1))\n",
        "# Get the predict scaled price\n",
        "pred_price = model.predict(X_test)\n",
        "# Undoing Scaling\n",
        "pred_price = scaler.inverse_transform(pred_price)\n",
        "pred_price"
      ],
      "execution_count": 94,
      "outputs": [
        {
          "output_type": "execute_result",
          "data": {
            "text/plain": [
              "array([[286.23315]], dtype=float32)"
            ]
          },
          "metadata": {
            "tags": []
          },
          "execution_count": 94
        }
      ]
    },
    {
      "cell_type": "code",
      "metadata": {
        "id": "lKP11jStFx84",
        "colab_type": "code",
        "colab": {}
      },
      "source": [
        "# Get the last 60 days closing price values and covert the df to an array\n",
        "last_60_days = new_df[-60:].values\n",
        "last_60_days"
      ],
      "execution_count": null,
      "outputs": []
    },
    {
      "cell_type": "code",
      "metadata": {
        "id": "Zi08cWH_X9vh",
        "colab_type": "code",
        "colab": {}
      },
      "source": [
        "# Scale the data to be values between 0 and 1\n",
        "last_60_days_scaled = scaler.transform(last_60_days)\n",
        "last_60_days_scaled"
      ],
      "execution_count": null,
      "outputs": []
    },
    {
      "cell_type": "code",
      "metadata": {
        "id": "UD-lFezJX97u",
        "colab_type": "code",
        "colab": {}
      },
      "source": [
        "# Create an empty list\n",
        "X_test = []\n",
        "# Append the past 60 days\n",
        "X_test.append(last_60_days_scaled)\n",
        "X_test"
      ],
      "execution_count": null,
      "outputs": []
    },
    {
      "cell_type": "code",
      "metadata": {
        "id": "ojSMfO_RX-D1",
        "colab_type": "code",
        "colab": {}
      },
      "source": [
        "# Covert X_test to a numpy array\n",
        "X_test = np.array(X_test)\n",
        "X_test"
      ],
      "execution_count": null,
      "outputs": []
    },
    {
      "cell_type": "code",
      "metadata": {
        "id": "DGPx73qgX-K5",
        "colab_type": "code",
        "colab": {}
      },
      "source": [
        "# Rashape Test Data\n",
        "X_test = np.reshape(X_test, (X_test.shape[0], X_test.shape[1], 1))\n",
        "X_test"
      ],
      "execution_count": null,
      "outputs": []
    },
    {
      "cell_type": "code",
      "metadata": {
        "id": "l28lzNbHX-Ri",
        "colab_type": "code",
        "colab": {
          "base_uri": "https://localhost:8080/",
          "height": 34
        },
        "outputId": "6fa319b8-6d1d-46c7-f987-cbe70c878e57"
      },
      "source": [
        "# Get the predict scaled price\n",
        "pred_price = model.predict(X_test)\n",
        "pred_price"
      ],
      "execution_count": 100,
      "outputs": [
        {
          "output_type": "execute_result",
          "data": {
            "text/plain": [
              "array([[1.0259244]], dtype=float32)"
            ]
          },
          "metadata": {
            "tags": []
          },
          "execution_count": 100
        }
      ]
    },
    {
      "cell_type": "code",
      "metadata": {
        "id": "PzxQqqPFX-YA",
        "colab_type": "code",
        "colab": {
          "base_uri": "https://localhost:8080/",
          "height": 34
        },
        "outputId": "77d2ad6d-8add-4b01-e863-320f9eacaf0c"
      },
      "source": [
        "# Undoing Scaling\n",
        "pred_price = scaler.inverse_transform(pred_price)\n",
        "pred_price"
      ],
      "execution_count": 101,
      "outputs": [
        {
          "output_type": "execute_result",
          "data": {
            "text/plain": [
              "array([[286.23315]], dtype=float32)"
            ]
          },
          "metadata": {
            "tags": []
          },
          "execution_count": 101
        }
      ]
    }
  ]
}